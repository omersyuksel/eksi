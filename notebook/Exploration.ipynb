{
 "cells": [
  {
   "cell_type": "code",
   "execution_count": 1,
   "metadata": {
    "collapsed": false
   },
   "outputs": [],
   "source": [
    "%matplotlib inline\n",
    "\n",
    "%load_ext autoreload\n",
    "%autoreload 2"
   ]
  },
  {
   "cell_type": "code",
   "execution_count": 2,
   "metadata": {
    "collapsed": false
   },
   "outputs": [],
   "source": [
    "import gzip, json\n",
    "myfile = gzip.open(r'../data/all.json.gz')\n",
    "items = json.load(myfile)\n",
    "myfile.close()"
   ]
  },
  {
   "cell_type": "code",
   "execution_count": 3,
   "metadata": {
    "collapsed": false
   },
   "outputs": [
    {
     "name": "stdout",
     "output_type": "stream",
     "text": [
      "Number of entries: 92520 \n"
     ]
    }
   ],
   "source": [
    "print \"Number of entries: %d \" % len(items)"
   ]
  },
  {
   "cell_type": "markdown",
   "metadata": {},
   "source": [
    "### Example of an entry"
   ]
  },
  {
   "cell_type": "code",
   "execution_count": 4,
   "metadata": {
    "collapsed": false
   },
   "outputs": [
    {
     "name": "stdout",
     "output_type": "stream",
     "text": [
      "{author: aylak leydi, date_string: 15.02.2010 13:29, entry_no: 100, favcount: \n",
      "2, id: 18198550, page_no: 10, text: yürürken su içemiyorum.}\n"
     ]
    }
   ],
   "source": [
    "import sympy\n",
    "import pprint\n",
    "sympy.pprint(items[100])\n"
   ]
  },
  {
   "cell_type": "markdown",
   "metadata": {},
   "source": [
    "## Tokenizing"
   ]
  },
  {
   "cell_type": "markdown",
   "metadata": {},
   "source": [
    "We can use regex with alphanumeric + extended Turkish Latin characters"
   ]
  },
  {
   "cell_type": "code",
   "execution_count": 5,
   "metadata": {
    "collapsed": true
   },
   "outputs": [],
   "source": [
    "import re"
   ]
  },
  {
   "cell_type": "code",
   "execution_count": 6,
   "metadata": {
    "collapsed": true
   },
   "outputs": [],
   "source": [
    "from collections import Counter\n",
    "words_count = Counter()"
   ]
  },
  {
   "cell_type": "code",
   "execution_count": 7,
   "metadata": {
    "collapsed": false
   },
   "outputs": [],
   "source": [
    "for item in items:\n",
    "    mytext = item['text']\n",
    "    words = re.findall(ur'((?:\\w|ö|ü|ı|ğ|ş|ç)+)', mytext)\n",
    "    words = [w.strip() for w in words]\n",
    "    words_count.update(words)"
   ]
  },
  {
   "cell_type": "code",
   "execution_count": 8,
   "metadata": {
    "collapsed": false
   },
   "outputs": [],
   "source": [
    "#Sort by frequency\n",
    "words_items = sorted(words_count.items(), key=lambda tup:tup[1], reverse=True)\n",
    "[words, wcount] = zip(*words_items)"
   ]
  },
  {
   "cell_type": "code",
   "execution_count": 9,
   "metadata": {
    "collapsed": false
   },
   "outputs": [],
   "source": [
    "from stop_words import get_stop_words\n",
    "stopwords = set(get_stop_words('turkish'))"
   ]
  },
  {
   "cell_type": "code",
   "execution_count": 10,
   "metadata": {
    "collapsed": true
   },
   "outputs": [],
   "source": [
    "#Remove stopwords\n",
    "words_items_filtered = [w for w in words_items if w[0] not in stopwords]\n",
    "[words, wcount] = zip(*words_items_filtered)"
   ]
  },
  {
   "cell_type": "code",
   "execution_count": 11,
   "metadata": {
    "collapsed": true
   },
   "outputs": [],
   "source": [
    "authors_count = Counter([item['author'] for item in items])"
   ]
  },
  {
   "cell_type": "code",
   "execution_count": 12,
   "metadata": {
    "collapsed": true
   },
   "outputs": [],
   "source": [
    "authors_items = sorted(authors_count.items(), key=lambda t: t[1], reverse=True)\n"
   ]
  },
  {
   "cell_type": "code",
   "execution_count": 13,
   "metadata": {
    "collapsed": false
   },
   "outputs": [],
   "source": [
    "authors, counts = zip(*authors_items) "
   ]
  },
  {
   "cell_type": "markdown",
   "metadata": {},
   "source": [
    "## Stemming"
   ]
  },
  {
   "cell_type": "markdown",
   "metadata": {},
   "source": [
    "Turkish is agglutinative and heavily relies on suffixes, which are used in places of prepositions and other function words in English. Stemming allows us to look at the more \"relevant\" part of a word rather than the version with all the suffixes. "
   ]
  },
  {
   "cell_type": "code",
   "execution_count": 14,
   "metadata": {
    "collapsed": true
   },
   "outputs": [],
   "source": [
    "import snowballstemmer\n",
    "stemmer = snowballstemmer.stemmer('turkish')\n"
   ]
  },
  {
   "cell_type": "code",
   "execution_count": 15,
   "metadata": {
    "collapsed": false
   },
   "outputs": [
    {
     "name": "stdout",
     "output_type": "stream",
     "text": [
      "geliyor\n",
      "geliyor\n"
     ]
    }
   ],
   "source": [
    "#Example of stemming\n",
    "print stemmer.stemWord('geliyorlar') # \"They are coming\"\n",
    "print stemmer.stemWord('geliyorsun') # \"You are coming\""
   ]
  },
  {
   "cell_type": "code",
   "execution_count": 16,
   "metadata": {
    "collapsed": true
   },
   "outputs": [],
   "source": [
    "words_counter_stemmed = Counter()\n",
    "for word, wcount in words_items_filtered:\n",
    "    words_counter_stemmed[stemmer.stemWord(word)] += wcount\n"
   ]
  },
  {
   "cell_type": "code",
   "execution_count": 17,
   "metadata": {
    "collapsed": false
   },
   "outputs": [
    {
     "name": "stdout",
     "output_type": "stream",
     "text": [
      "#words before stemming: 347153 \n",
      "#words after stemming: 147658 \n"
     ]
    }
   ],
   "source": [
    "print '#words before stemming: %d ' % len(words_items_filtered)\n",
    "print '#words after stemming: %d ' % len(words_counter_stemmed)\n"
   ]
  },
  {
   "cell_type": "code",
   "execution_count": 18,
   "metadata": {
    "collapsed": false
   },
   "outputs": [],
   "source": [
    "words_items_stemmed = sorted(words_counter_stemmed.items(), key= lambda t: int(t[1]) , reverse=True  )"
   ]
  },
  {
   "cell_type": "code",
   "execution_count": 19,
   "metadata": {
    "collapsed": false
   },
   "outputs": [],
   "source": [
    "[words, wcount] = zip(*words_items_stemmed)"
   ]
  },
  {
   "cell_type": "markdown",
   "metadata": {},
   "source": [
    "## Basic statistics"
   ]
  },
  {
   "cell_type": "code",
   "execution_count": 20,
   "metadata": {
    "collapsed": false
   },
   "outputs": [
    {
     "name": "stdout",
     "output_type": "stream",
     "text": [
      "First (earliest) 5 entries:\n"
     ]
    },
    {
     "data": {
      "text/html": [
       "<div>\n",
       "<table border=\"1\" class=\"dataframe\">\n",
       "  <thead>\n",
       "    <tr style=\"text-align: right;\">\n",
       "      <th></th>\n",
       "      <th>author</th>\n",
       "      <th>date_string</th>\n",
       "      <th>entry_no</th>\n",
       "      <th>favcount</th>\n",
       "      <th>id</th>\n",
       "      <th>page_no</th>\n",
       "      <th>text</th>\n",
       "    </tr>\n",
       "  </thead>\n",
       "  <tbody>\n",
       "    <tr>\n",
       "      <th>0</th>\n",
       "      <td>sitki siyril</td>\n",
       "      <td>27.08.2004 17:33 ~ 28.05.2014 21:16</td>\n",
       "      <td>0</td>\n",
       "      <td>490</td>\n",
       "      <td>5526036</td>\n",
       "      <td>0</td>\n",
       "      <td>en popülerlerinden bir sözlük celebrity’si ile...</td>\n",
       "    </tr>\n",
       "    <tr>\n",
       "      <th>1</th>\n",
       "      <td>sitki siyril</td>\n",
       "      <td>27.08.2004 17:35</td>\n",
       "      <td>1</td>\n",
       "      <td>38</td>\n",
       "      <td>5526061</td>\n",
       "      <td>0</td>\n",
       "      <td>sözlükte çok popüler, entryleri sevilen bir üç...</td>\n",
       "    </tr>\n",
       "    <tr>\n",
       "      <th>2</th>\n",
       "      <td>sitki siyril</td>\n",
       "      <td>27.08.2004 17:43</td>\n",
       "      <td>2</td>\n",
       "      <td>5</td>\n",
       "      <td>5526178</td>\n",
       "      <td>0</td>\n",
       "      <td>geç kalmadan...(bkz: ekşi itirafçıların demek ...</td>\n",
       "    </tr>\n",
       "    <tr>\n",
       "      <th>3</th>\n",
       "      <td>sitki siyril</td>\n",
       "      <td>27.08.2004 18:21</td>\n",
       "      <td>3</td>\n",
       "      <td>6</td>\n",
       "      <td>5526647</td>\n",
       "      <td>0</td>\n",
       "      <td>geçen ssg ile zirvede karşılaştım. arası soğum...</td>\n",
       "    </tr>\n",
       "    <tr>\n",
       "      <th>4</th>\n",
       "      <td>sitki siyril</td>\n",
       "      <td>27.08.2004 18:27</td>\n",
       "      <td>4</td>\n",
       "      <td>10</td>\n",
       "      <td>5526710</td>\n",
       "      <td>0</td>\n",
       "      <td>amcıkgülün itirafını okuyunca aklıma geldi. be...</td>\n",
       "    </tr>\n",
       "  </tbody>\n",
       "</table>\n",
       "</div>"
      ],
      "text/plain": [
       "         author                          date_string  entry_no  favcount  \\\n",
       "0  sitki siyril  27.08.2004 17:33 ~ 28.05.2014 21:16         0       490   \n",
       "1  sitki siyril                     27.08.2004 17:35         1        38   \n",
       "2  sitki siyril                     27.08.2004 17:43         2         5   \n",
       "3  sitki siyril                     27.08.2004 18:21         3         6   \n",
       "4  sitki siyril                     27.08.2004 18:27         4        10   \n",
       "\n",
       "        id  page_no                                               text  \n",
       "0  5526036        0  en popülerlerinden bir sözlük celebrity’si ile...  \n",
       "1  5526061        0  sözlükte çok popüler, entryleri sevilen bir üç...  \n",
       "2  5526178        0  geç kalmadan...(bkz: ekşi itirafçıların demek ...  \n",
       "3  5526647        0  geçen ssg ile zirvede karşılaştım. arası soğum...  \n",
       "4  5526710        0  amcıkgülün itirafını okuyunca aklıma geldi. be...  "
      ]
     },
     "execution_count": 20,
     "metadata": {},
     "output_type": "execute_result"
    }
   ],
   "source": [
    "from pandas import DataFrame\n",
    "entry_table = DataFrame.from_dict(items)\n",
    "\n",
    "print 'First (earliest) 5 entries:'\n",
    "entry_table.head(5)"
   ]
  },
  {
   "cell_type": "code",
   "execution_count": 21,
   "metadata": {
    "collapsed": false
   },
   "outputs": [
    {
     "name": "stdout",
     "output_type": "stream",
     "text": [
      "#Entries: 92520\n",
      "#Authors: 16094\n",
      "#Words: 5736867\n",
      "#Unique words: 147658\n",
      "#Characters: 40392500\n",
      "#Unique characters: 132\n"
     ]
    }
   ],
   "source": [
    "print '#Entries: %d' % len(entry_table)\n",
    "print '#Authors: %d' % len(entry_table['author'].unique() )\n",
    "print '#Words: %d' % sum(words_count.values())\n",
    "print '#Unique words: %d' % len(words_counter_stemmed)\n",
    "print '#Characters: %d' % sum(len(s) for s in entry_table['text'])\n",
    "unique_characters = set()\n",
    "for s in entry_table['text']: unique_characters.update( set(s))\n",
    "print '#Unique characters: %d' % len(unique_characters)"
   ]
  },
  {
   "cell_type": "code",
   "execution_count": 22,
   "metadata": {
    "collapsed": false
   },
   "outputs": [
    {
     "name": "stdout",
     "output_type": "stream",
     "text": [
      "Avg (median) #entries per author: 2\n",
      "Avg (median) #characters per entry: 211\n"
     ]
    }
   ],
   "source": [
    "med_author_entries = entry_table.groupby(['author']).count()['text'].median()\n",
    "print 'Avg (median) #entries per author: %d' % med_author_entries\n",
    "\n",
    "entry_table['char_length'] = [len(t) for t in entry_table['text']]\n",
    "med_entry_characters = entry_table['char_length'].median()\n",
    "print 'Avg (median) #characters per entry: %d' % med_entry_characters"
   ]
  },
  {
   "cell_type": "markdown",
   "metadata": {},
   "source": [
    "### Distribution of words\n",
    "\n",
    "We sort the words by their frequency and plot the rank vs frequency. We want to see if the distribution follows Zipf's Law, which would result in a straight line in a log-log pilot."
   ]
  },
  {
   "cell_type": "code",
   "execution_count": 23,
   "metadata": {
    "collapsed": false
   },
   "outputs": [
    {
     "data": {
      "image/png": "[encoded data removed]",
      "text/plain": [
       "<matplotlib.figure.Figure at 0x254e82b0>"
      ]
     },
     "metadata": {},
     "output_type": "display_data"
    }
   ],
   "source": [
    "import seaborn as sns\n",
    "import matplotlib.pyplot as plt\n",
    "\n",
    "sns.set_context(\"notebook\", font_scale=1.5, rc={\"lines.linewidth\": 2.5})\n",
    "\n",
    "plt.scatter(range(1,1+len(wcount)), wcount)\n",
    "plt.loglog()\n",
    "plt.xlabel('rank')\n",
    "plt.ylabel('frequency')\n",
    "plt.title('Distribution of all words')\n",
    "plt.xlim([0, len(wcount)+1 ])\n",
    "\n",
    "plt.savefig('words_dist_all.jpg')"
   ]
  },
  {
   "cell_type": "markdown",
   "metadata": {},
   "source": [
    "We can see that it's mainly the most and the least frequency words, at the both ends of the distribution that violate the law, hence we'd like to see the plot again with these parts trimmed: "
   ]
  },
  {
   "cell_type": "code",
   "execution_count": 24,
   "metadata": {
    "collapsed": false
   },
   "outputs": [],
   "source": [
    "def plot_truncated(cutsize):\n",
    "    plt.scatter(range(cutsize+1,1+len(wcount)-cutsize), wcount[cutsize:-cutsize])\n",
    "    plt.loglog()\n",
    "    plt.xlabel('rank')\n",
    "    plt.ylabel('#')\n",
    "    plt.title('Distribution of words (top-bottom %d removed)' % cutsize)"
   ]
  },
  {
   "cell_type": "code",
   "execution_count": 25,
   "metadata": {
    "collapsed": false,
    "scrolled": false
   },
   "outputs": [
    {
     "data": {
      "image/png": "[encoded data removed]",
      "text/plain": [
       "<matplotlib.figure.Figure at 0x254dc3c8>"
      ]
     },
     "metadata": {},
     "output_type": "display_data"
    }
   ],
   "source": [
    "plot_truncated(1000)"
   ]
  },
  {
   "cell_type": "markdown",
   "metadata": {},
   "source": [
    "Closer to a straight line after trimming."
   ]
  },
  {
   "cell_type": "markdown",
   "metadata": {
    "collapsed": true
   },
   "source": [
    "## Distribution of Favorites (bookmarks)\n",
    "Number of favs is one of the metrics of the popularity of an entry."
   ]
  },
  {
   "cell_type": "code",
   "execution_count": 26,
   "metadata": {
    "collapsed": false
   },
   "outputs": [
    {
     "data": {
      "image/png": "[encoded data removed]",
      "text/plain": [
       "<matplotlib.figure.Figure at 0x28103eb8>"
      ]
     },
     "metadata": {},
     "output_type": "display_data"
    }
   ],
   "source": [
    "import numpy as np\n",
    "plt.hist(entry_table['favcount'], bins=np.logspace(0, np.log10(max(entry_table['favcount'])), 10), log=True)\n",
    "plt.semilogx()\n",
    "plt.xlabel('#Favs')\n",
    "plt.ylabel('#Entries')\n",
    "plt.savefig('favs_dist.jpg')"
   ]
  },
  {
   "cell_type": "markdown",
   "metadata": {},
   "source": [
    "Another distribution reminiscient of power law. One possible explanation is a preferential attachment mechanism (entries that are popular tend to be read more by others, which in turn makes them accumulate even more #favs)."
   ]
  },
  {
   "cell_type": "markdown",
   "metadata": {},
   "source": [
    "## Favs vs Time"
   ]
  },
  {
   "cell_type": "code",
   "execution_count": 27,
   "metadata": {
    "collapsed": true
   },
   "outputs": [],
   "source": [
    "def get_hour(item):\n",
    "    try:\n",
    "        timestr = item['date_string'].split('~')[0].strip().split(' ')[-1]\n",
    "        hour = int(timestr[0:2])\n",
    "        minute = int(timestr[3:])\n",
    "        return hour\n",
    "    except:\n",
    "        return np.nan\n",
    "\n",
    "   \n",
    "\n",
    "daytime_list = [get_hour(item) for item in items]\n",
    "\n",
    "#Fix NaNs\n",
    "prev_time = 0\n",
    "for i,daytime in enumerate(list(daytime_list)):\n",
    "    if np.isnan(daytime):\n",
    "        daytime_list[i] = prev_time\n",
    "    else:\n",
    "        prev_time = daytime\n",
    "    \n"
   ]
  },
  {
   "cell_type": "code",
   "execution_count": 28,
   "metadata": {
    "collapsed": false
   },
   "outputs": [],
   "source": [
    "entry_table['daytime'] = daytime_list"
   ]
  },
  {
   "cell_type": "code",
   "execution_count": 29,
   "metadata": {
    "collapsed": false
   },
   "outputs": [],
   "source": [
    "group_daytime = entry_table.groupby('daytime').agg(['mean','count'])\n",
    "group_daytime = group_daytime.reset_index('daytime')"
   ]
  },
  {
   "cell_type": "code",
   "execution_count": 30,
   "metadata": {
    "collapsed": false
   },
   "outputs": [
    {
     "data": {
      "text/html": [
       "<div>\n",
       "<table border=\"1\" class=\"dataframe\">\n",
       "  <thead>\n",
       "    <tr>\n",
       "      <th></th>\n",
       "      <th>daytime</th>\n",
       "      <th colspan=\"2\" halign=\"left\">entry_no</th>\n",
       "      <th colspan=\"2\" halign=\"left\">favcount</th>\n",
       "      <th colspan=\"2\" halign=\"left\">page_no</th>\n",
       "      <th colspan=\"2\" halign=\"left\">char_length</th>\n",
       "    </tr>\n",
       "    <tr>\n",
       "      <th></th>\n",
       "      <th></th>\n",
       "      <th>mean</th>\n",
       "      <th>count</th>\n",
       "      <th>mean</th>\n",
       "      <th>count</th>\n",
       "      <th>mean</th>\n",
       "      <th>count</th>\n",
       "      <th>mean</th>\n",
       "      <th>count</th>\n",
       "    </tr>\n",
       "  </thead>\n",
       "  <tbody>\n",
       "    <tr>\n",
       "      <th>0</th>\n",
       "      <td>0</td>\n",
       "      <td>47199.395663</td>\n",
       "      <td>12081</td>\n",
       "      <td>3.303534</td>\n",
       "      <td>12081</td>\n",
       "      <td>4719.491847</td>\n",
       "      <td>12081</td>\n",
       "      <td>480.118947</td>\n",
       "      <td>12081</td>\n",
       "    </tr>\n",
       "    <tr>\n",
       "      <th>1</th>\n",
       "      <td>1</td>\n",
       "      <td>47575.371480</td>\n",
       "      <td>8380</td>\n",
       "      <td>1.558592</td>\n",
       "      <td>8380</td>\n",
       "      <td>4757.080310</td>\n",
       "      <td>8380</td>\n",
       "      <td>443.998568</td>\n",
       "      <td>8380</td>\n",
       "    </tr>\n",
       "    <tr>\n",
       "      <th>2</th>\n",
       "      <td>2</td>\n",
       "      <td>46829.647030</td>\n",
       "      <td>6043</td>\n",
       "      <td>1.499421</td>\n",
       "      <td>6043</td>\n",
       "      <td>4682.520106</td>\n",
       "      <td>6043</td>\n",
       "      <td>466.413702</td>\n",
       "      <td>6043</td>\n",
       "    </tr>\n",
       "    <tr>\n",
       "      <th>3</th>\n",
       "      <td>3</td>\n",
       "      <td>45276.272338</td>\n",
       "      <td>3973</td>\n",
       "      <td>1.513718</td>\n",
       "      <td>3973</td>\n",
       "      <td>4527.175434</td>\n",
       "      <td>3973</td>\n",
       "      <td>483.627486</td>\n",
       "      <td>3973</td>\n",
       "    </tr>\n",
       "    <tr>\n",
       "      <th>4</th>\n",
       "      <td>4</td>\n",
       "      <td>47211.273211</td>\n",
       "      <td>2445</td>\n",
       "      <td>1.555419</td>\n",
       "      <td>2445</td>\n",
       "      <td>4720.677710</td>\n",
       "      <td>2445</td>\n",
       "      <td>548.161963</td>\n",
       "      <td>2445</td>\n",
       "    </tr>\n",
       "  </tbody>\n",
       "</table>\n",
       "</div>"
      ],
      "text/plain": [
       "  daytime      entry_no         favcount             page_no         \\\n",
       "                   mean  count      mean  count         mean  count   \n",
       "0       0  47199.395663  12081  3.303534  12081  4719.491847  12081   \n",
       "1       1  47575.371480   8380  1.558592   8380  4757.080310   8380   \n",
       "2       2  46829.647030   6043  1.499421   6043  4682.520106   6043   \n",
       "3       3  45276.272338   3973  1.513718   3973  4527.175434   3973   \n",
       "4       4  47211.273211   2445  1.555419   2445  4720.677710   2445   \n",
       "\n",
       "  char_length         \n",
       "         mean  count  \n",
       "0  480.118947  12081  \n",
       "1  443.998568   8380  \n",
       "2  466.413702   6043  \n",
       "3  483.627486   3973  \n",
       "4  548.161963   2445  "
      ]
     },
     "execution_count": 30,
     "metadata": {},
     "output_type": "execute_result"
    }
   ],
   "source": [
    "group_daytime.head()"
   ]
  },
  {
   "cell_type": "code",
   "execution_count": 31,
   "metadata": {
    "collapsed": false
   },
   "outputs": [
    {
     "data": {
      "text/plain": [
       "<Container object of 24 artists>"
      ]
     },
     "execution_count": 31,
     "metadata": {},
     "output_type": "execute_result"
    },
    {
     "data": {
      "image/png": "[encoded data removed]",
      "text/plain": [
       "<matplotlib.figure.Figure at 0x2957bb70>"
      ]
     },
     "metadata": {},
     "output_type": "display_data"
    }
   ],
   "source": [
    "plt.subplot(1,2,1)\n",
    "plt.xlabel('Time of the day')\n",
    "plt.title('#Entries')\n",
    "plt.bar(group_daytime['daytime'], group_daytime['entry_no']['count'])\n",
    "\n",
    "\n",
    "plt.subplot(1,2,2)\n",
    "plt.xlabel('Time of the day')\n",
    "plt.title('Mean(#Favs)')\n",
    "plt.bar(group_daytime['daytime'], group_daytime['favcount']['mean'])\n"
   ]
  },
  {
   "cell_type": "markdown",
   "metadata": {},
   "source": [
    "Seems like we have the most #entries and highest #favs at midnight. This is at least partially due to the fact that entries posted around 00:00 get the highest exposure."
   ]
  },
  {
   "cell_type": "code",
   "execution_count": null,
   "metadata": {
    "collapsed": true
   },
   "outputs": [],
   "source": []
  }
 ],
 "metadata": {
  "kernelspec": {
   "display_name": "Python 2",
   "language": "python",
   "name": "python2"
  },
  "language_info": {
   "codemirror_mode": {
    "name": "ipython",
    "version": 2
   },
   "file_extension": ".py",
   "mimetype": "text/x-python",
   "name": "python",
   "nbconvert_exporter": "python",
   "pygments_lexer": "ipython2",
   "version": "2.7.11"
  }
 },
 "nbformat": 4,
 "nbformat_minor": 0
}
